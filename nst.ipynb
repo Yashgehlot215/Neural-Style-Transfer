{
 "cells": [
  {
   "cell_type": "code",
   "execution_count": 11,
   "id": "e837d94b-9210-49ec-b1aa-0fa6692f1954",
   "metadata": {},
   "outputs": [],
   "source": [
    "import torch\n",
    "import torch.nn as nn\n",
    "import torch.optim as optim\n",
    "from PIL import Image\n",
    "import torchvision.transforms as transforms\n",
    "import torchvision.models as models\n",
    "from torchvision.utils import save_image"
   ]
  },
  {
   "cell_type": "code",
   "execution_count": 12,
   "id": "9fcf9c73-aa65-4d85-9a36-e7d29846d414",
   "metadata": {},
   "outputs": [],
   "source": [
    "model = models.vgg19(pretrained=True).features"
   ]
  },
  {
   "cell_type": "code",
   "execution_count": 13,
   "id": "6f843052-e1e8-4ad9-92a1-f5731b4b022c",
   "metadata": {},
   "outputs": [],
   "source": [
    "class VGG(nn.Module):\n",
    "    def __init__(self):\n",
    "        super(VGG, self).__init__()\n",
    "        self.chosen_features = ['0', '5', '10', '19', '28']\n",
    "        self.model = models.vgg19(pretrained=True).features[:29]\n",
    "\n",
    "    def forward(self, x):\n",
    "        features = []\n",
    "        for layer_num, layer in enumerate(self.model):\n",
    "            x = layer(x)\n",
    "            if str(layer_num) in self.chosen_features:\n",
    "                features.append(x)\n",
    "        return features"
   ]
  },
  {
   "cell_type": "code",
   "execution_count": 14,
   "id": "b2ce2a67-283a-4de5-bc52-f21521a7f74e",
   "metadata": {},
   "outputs": [],
   "source": [
    "device = torch.device(\"cuda\" if torch.cuda.is_available() else \"cpu\")\n"
   ]
  },
  {
   "cell_type": "code",
   "execution_count": 15,
   "id": "4f52116e-ddec-4e71-99d6-3ff1fcb8e397",
   "metadata": {},
   "outputs": [],
   "source": [
    "def load_image(image_name):\n",
    "    image_size = 356  # Define image size here\n",
    "    loader = transforms.Compose([\n",
    "        transforms.Resize((image_size, image_size)),\n",
    "        transforms.ToTensor(),\n",
    "    ])\n",
    "    image = Image.open(image_name)\n",
    "    image = loader(image).unsqueeze(0)\n",
    "    return image.to(device, torch.float)"
   ]
  },
  {
   "cell_type": "code",
   "execution_count": 16,
   "id": "7bdea876-392d-4301-80a5-bedcacf2ef15",
   "metadata": {},
   "outputs": [],
   "source": [
    "# Paths to your images\n",
    "original_img_path = \"D:\\\\Aries open project\\\\tubingen.png\"\n",
    "style_img_path = \"D:\\\\Aries open project\\\\mosaic.jpg\"\n",
    "\n",
    "original_img = load_image(original_img_path)\n",
    "style_img = load_image(style_img_path)"
   ]
  },
  {
   "cell_type": "code",
   "execution_count": 17,
   "id": "5349a9b2-30b0-47f7-a295-773c7ffdd07d",
   "metadata": {},
   "outputs": [],
   "source": [
    "# Initialize VGG and move to device\n",
    "model = VGG().to(device).eval()\n",
    "\n",
    "# Initialize generated image as a copy of original image\n",
    "generated = original_img.clone().requires_grad_(True)\n",
    "\n",
    "# Hyperparameters\n",
    "total_steps = 5000\n",
    "learning_rate = 0.01  # Adjusted learning rate for faster convergence\n",
    "alpha = 1  # Weight for content loss\n",
    "beta = 0.1  # Weight for style loss\n"
   ]
  },
  {
   "cell_type": "code",
   "execution_count": 18,
   "id": "22624600-2599-47eb-a49c-95cb15276436",
   "metadata": {},
   "outputs": [],
   "source": [
    "optimizer = optim.Adam([generated], lr=learning_rate)\n"
   ]
  },
  {
   "cell_type": "code",
   "execution_count": 19,
   "id": "6c2a011d-d683-4296-9481-465a5e50fea8",
   "metadata": {},
   "outputs": [
    {
     "name": "stdout",
     "output_type": "stream",
     "text": [
      "Step [0/5000], Total Loss: 56240972.0\n",
      "Step [200/5000], Total Loss: 286819.15625\n",
      "Step [400/5000], Total Loss: 149828.75\n",
      "Step [600/5000], Total Loss: 111352.6875\n",
      "Step [800/5000], Total Loss: 92032.7421875\n",
      "Step [1000/5000], Total Loss: 79605.3828125\n",
      "Step [1200/5000], Total Loss: 70661.1015625\n",
      "Step [1400/5000], Total Loss: 63543.35546875\n",
      "Step [1600/5000], Total Loss: 57543.12890625\n",
      "Step [1800/5000], Total Loss: 52626.6640625\n",
      "Step [2000/5000], Total Loss: 48219.48046875\n",
      "Step [2200/5000], Total Loss: 44090.20703125\n",
      "Step [2400/5000], Total Loss: 41381.74609375\n",
      "Step [2600/5000], Total Loss: 281333.96875\n",
      "Step [2800/5000], Total Loss: 36913.40625\n",
      "Step [3000/5000], Total Loss: 33296.64453125\n",
      "Step [3200/5000], Total Loss: 31014.05078125\n",
      "Step [3400/5000], Total Loss: 30609.748046875\n",
      "Step [3600/5000], Total Loss: 29326.861328125\n",
      "Step [3800/5000], Total Loss: 41460.46484375\n",
      "Step [4000/5000], Total Loss: 29645.767578125\n",
      "Step [4200/5000], Total Loss: 27236.04296875\n",
      "Step [4400/5000], Total Loss: 25749.15625\n",
      "Step [4600/5000], Total Loss: 25468.8984375\n",
      "Step [4800/5000], Total Loss: 23909.154296875\n"
     ]
    }
   ],
   "source": [
    "for step in range(total_steps):\n",
    "    optimizer.zero_grad()\n",
    "\n",
    "    # Extract features for generated, original, and style images\n",
    "    generated_features = model(generated)\n",
    "    original_img_features = model(original_img)\n",
    "    style_features = model(style_img)\n",
    "\n",
    "    style_loss = original_loss = 0\n",
    "\n",
    "    # Compute content loss\n",
    "    for gen_feature, orig_feature in zip(generated_features, original_img_features):\n",
    "        original_loss += torch.mean((gen_feature - orig_feature) ** 2)\n",
    "\n",
    "    # Compute style loss\n",
    "    for gen_feature, style_feature in zip(generated_features, style_features):\n",
    "        _, channel, height, width = gen_feature.shape\n",
    "        G = gen_feature.view(channel, height * width).mm(gen_feature.view(channel, height * width).t())\n",
    "        A = style_feature.view(channel, height * width).mm(style_feature.view(channel, height * width).t())\n",
    "        style_loss += torch.mean((G - A) ** 2)\n",
    "\n",
    "    total_loss = alpha * original_loss + beta * style_loss\n",
    "    total_loss.backward()\n",
    "    optimizer.step()\n",
    "\n",
    "    # Print and save generated image every 200 steps\n",
    "    if step % 200 == 0:\n",
    "        print(f\"Step [{step}/{total_steps}], Total Loss: {total_loss.item()}\")\n",
    "        save_image(generated, f\"generated_{step}.png\")\n"
   ]
  },
  {
   "cell_type": "raw",
   "id": "db03cde4-830e-448f-9ebf-09876686bfa3",
   "metadata": {},
   "source": []
  },
  {
   "cell_type": "code",
   "execution_count": null,
   "id": "3e947b6c-8892-4f22-b07e-d801c3fe3a55",
   "metadata": {},
   "outputs": [],
   "source": []
  },
  {
   "cell_type": "code",
   "execution_count": null,
   "id": "1c93fee4-981d-4ddd-87d0-1dce49f0527e",
   "metadata": {},
   "outputs": [],
   "source": []
  },
  {
   "cell_type": "code",
   "execution_count": null,
   "id": "4b91ee91-82f0-494f-9ef1-102de8a71aa0",
   "metadata": {},
   "outputs": [],
   "source": []
  }
 ],
 "metadata": {
  "kernelspec": {
   "display_name": "Python 3 (ipykernel)",
   "language": "python",
   "name": "python3"
  },
  "language_info": {
   "codemirror_mode": {
    "name": "ipython",
    "version": 3
   },
   "file_extension": ".py",
   "mimetype": "text/x-python",
   "name": "python",
   "nbconvert_exporter": "python",
   "pygments_lexer": "ipython3",
   "version": "3.11.4"
  }
 },
 "nbformat": 4,
 "nbformat_minor": 5
}
